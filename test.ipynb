{
 "cells": [
  {
   "cell_type": "code",
   "execution_count": 2,
   "metadata": {},
   "outputs": [
    {
     "name": "stdout",
     "output_type": "stream",
     "text": [
      "[[1 0 0 0 1 0 0 0 0 0]\n",
      " [0 0 0 0 0 1 0 0 1 1]\n",
      " [1 0 1 0 1 1 0 0 1 0]\n",
      " [0 1 0 0 1 1 1 1 0 1]\n",
      " [1 0 1 0 1 0 0 0 0 1]\n",
      " [1 1 1 0 0 0 0 0 0 0]\n",
      " [1 0 0 0 1 1 1 1 1 0]\n",
      " [0 0 1 0 0 0 0 1 0 0]\n",
      " [1 1 1 1 1 1 0 1 1 1]\n",
      " [1 1 1 1 0 1 0 1 1 0]]\n"
     ]
    }
   ],
   "source": [
    "from numpy.random import default_rng\n",
    "from random import randrange\n",
    "import numpy as np\n",
    "\n",
    "rng = default_rng()\n",
    "pattern = rng.choice(2, (10,10))\n",
    "print(pattern)"
   ]
  },
  {
   "cell_type": "code",
   "execution_count": 3,
   "metadata": {},
   "outputs": [
    {
     "name": "stdout",
     "output_type": "stream",
     "text": [
      "[[0 0]\n",
      " [0 4]\n",
      " [1 5]\n",
      " [1 8]\n",
      " [1 9]\n",
      " [2 0]\n",
      " [2 2]\n",
      " [2 4]\n",
      " [2 5]\n",
      " [2 8]\n",
      " [3 1]\n",
      " [3 4]\n",
      " [3 5]\n",
      " [3 6]\n",
      " [3 7]\n",
      " [3 9]\n",
      " [4 0]\n",
      " [4 2]\n",
      " [4 4]\n",
      " [4 9]\n",
      " [5 0]\n",
      " [5 1]\n",
      " [5 2]\n",
      " [6 0]\n",
      " [6 4]\n",
      " [6 5]\n",
      " [6 6]\n",
      " [6 7]\n",
      " [6 8]\n",
      " [7 2]\n",
      " [7 7]\n",
      " [8 0]\n",
      " [8 1]\n",
      " [8 2]\n",
      " [8 3]\n",
      " [8 4]\n",
      " [8 5]\n",
      " [8 7]\n",
      " [8 8]\n",
      " [8 9]\n",
      " [9 0]\n",
      " [9 1]\n",
      " [9 2]\n",
      " [9 3]\n",
      " [9 5]\n",
      " [9 7]\n",
      " [9 8]]\n"
     ]
    }
   ],
   "source": [
    "indices = np.argwhere(pattern==True)\n",
    "print(indices)"
   ]
  },
  {
   "cell_type": "code",
   "execution_count": 7,
   "metadata": {},
   "outputs": [
    {
     "name": "stdout",
     "output_type": "stream",
     "text": [
      "[[0 1 0]\n",
      " [0 0 1]]\n"
     ]
    }
   ],
   "source": [
    "num_neighbor = 1\n",
    "index = indices[1]\n",
    "\n",
    "left = max(0,index[0]-num_neighbor)\n",
    "right = max(0,index[0]+num_neighbor+1)\n",
    "\n",
    "bottom = max(0,index[1]-num_neighbor)\n",
    "top = max(0,index[1]+num_neighbor+1)\n",
    "\n",
    "neighbors = pattern[left:right,bottom:top]\n",
    "print(neighbors)"
   ]
  },
  {
   "cell_type": "code",
   "execution_count": 11,
   "metadata": {},
   "outputs": [
    {
     "name": "stdout",
     "output_type": "stream",
     "text": [
      "1\n"
     ]
    }
   ],
   "source": [
    "print(neighbors[1,2])"
   ]
  },
  {
   "cell_type": "code",
   "execution_count": 8,
   "metadata": {},
   "outputs": [
    {
     "name": "stdout",
     "output_type": "stream",
     "text": [
      "[[0 1]\n",
      " [1 2]]\n"
     ]
    }
   ],
   "source": [
    "indexes = np.argwhere(neighbors == True)\n",
    "print(indexes)"
   ]
  },
  {
   "cell_type": "code",
   "execution_count": 89,
   "metadata": {},
   "outputs": [
    {
     "name": "stdout",
     "output_type": "stream",
     "text": [
      "[1 4]\n"
     ]
    }
   ],
   "source": [
    "_,count = np.unique(neighbors, return_counts=True)\n",
    "count[1] = count[1] - 1\n",
    "print(count)"
   ]
  },
  {
   "cell_type": "code",
   "execution_count": 90,
   "metadata": {},
   "outputs": [
    {
     "name": "stdout",
     "output_type": "stream",
     "text": [
      "[[0 0 1 0 0 1 0 0 1 0]\n",
      " [1 0 1 1 1 1 1 1 0 1]\n",
      " [0 0 0 0 1 0 1 0 0 1]\n",
      " [0 0 0 0 0 1 0 1 1 1]\n",
      " [0 1 0 1 1 0 1 0 1 0]\n",
      " [1 0 0 0 0 1 0 1 1 1]\n",
      " [1 0 0 0 1 0 0 1 0 0]\n",
      " [0 0 1 0 0 1 0 1 1 1]\n",
      " [1 1 0 0 0 0 1 1 1 1]\n",
      " [0 1 1 0 0 0 1 1 1 0]]\n"
     ]
    }
   ],
   "source": [
    "if count[1] < 2:\n",
    "    pattern[index[0],index[1]] = False\n",
    "if count[1] > 3:\n",
    "    pattern[index[0],index[1]] = False\n",
    "\n",
    "print(pattern)"
   ]
  }
 ],
 "metadata": {
  "kernelspec": {
   "display_name": "Python 3.10.6 64-bit (windows store)",
   "language": "python",
   "name": "python3"
  },
  "language_info": {
   "codemirror_mode": {
    "name": "ipython",
    "version": 3
   },
   "file_extension": ".py",
   "mimetype": "text/x-python",
   "name": "python",
   "nbconvert_exporter": "python",
   "pygments_lexer": "ipython3",
   "version": "3.10.6"
  },
  "orig_nbformat": 4,
  "vscode": {
   "interpreter": {
    "hash": "b96dac2fdb731018fc7161c6635bc834d096ae64961101d4f967ac31ed74e92f"
   }
  }
 },
 "nbformat": 4,
 "nbformat_minor": 2
}
