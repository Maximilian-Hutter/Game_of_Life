{
 "cells": [
  {
   "cell_type": "code",
   "execution_count": 86,
   "metadata": {},
   "outputs": [
    {
     "name": "stdout",
     "output_type": "stream",
     "text": [
      "[[0 0 1 0 1 1 0 0 1 0]\n",
      " [1 0 1 1 1 1 1 1 0 1]\n",
      " [0 0 0 0 1 0 1 0 0 1]\n",
      " [0 0 0 0 0 1 0 1 1 1]\n",
      " [0 1 0 1 1 0 1 0 1 0]\n",
      " [1 0 0 0 0 1 0 1 1 1]\n",
      " [1 0 0 0 1 0 0 1 0 0]\n",
      " [0 0 1 0 0 1 0 1 1 1]\n",
      " [1 1 0 0 0 0 1 1 1 1]\n",
      " [0 1 1 0 0 0 1 1 1 0]]\n"
     ]
    }
   ],
   "source": [
    "from numpy.random import default_rng\n",
    "from random import randrange\n",
    "import numpy as np\n",
    "\n",
    "rng = default_rng()\n",
    "pattern = rng.choice(2, (10,10))\n",
    "print(pattern)"
   ]
  },
  {
   "cell_type": "code",
   "execution_count": 87,
   "metadata": {},
   "outputs": [
    {
     "name": "stdout",
     "output_type": "stream",
     "text": [
      "[[0 2]\n",
      " [0 4]\n",
      " [0 5]\n",
      " [0 8]\n",
      " [1 0]\n",
      " [1 2]\n",
      " [1 3]\n",
      " [1 4]\n",
      " [1 5]\n",
      " [1 6]\n",
      " [1 7]\n",
      " [1 9]\n",
      " [2 4]\n",
      " [2 6]\n",
      " [2 9]\n",
      " [3 5]\n",
      " [3 7]\n",
      " [3 8]\n",
      " [3 9]\n",
      " [4 1]\n",
      " [4 3]\n",
      " [4 4]\n",
      " [4 6]\n",
      " [4 8]\n",
      " [5 0]\n",
      " [5 5]\n",
      " [5 7]\n",
      " [5 8]\n",
      " [5 9]\n",
      " [6 0]\n",
      " [6 4]\n",
      " [6 7]\n",
      " [7 2]\n",
      " [7 5]\n",
      " [7 7]\n",
      " [7 8]\n",
      " [7 9]\n",
      " [8 0]\n",
      " [8 1]\n",
      " [8 6]\n",
      " [8 7]\n",
      " [8 8]\n",
      " [8 9]\n",
      " [9 1]\n",
      " [9 2]\n",
      " [9 6]\n",
      " [9 7]\n",
      " [9 8]]\n"
     ]
    }
   ],
   "source": [
    "indices = np.argwhere(pattern==True)\n",
    "print(indices)"
   ]
  },
  {
   "cell_type": "code",
   "execution_count": 88,
   "metadata": {},
   "outputs": [
    {
     "name": "stdout",
     "output_type": "stream",
     "text": [
      "[[0 1 1]\n",
      " [1 1 1]]\n"
     ]
    }
   ],
   "source": [
    "num_neighbor = 1\n",
    "index = indices[1]\n",
    "\n",
    "left = max(0,index[0]-num_neighbor)\n",
    "right = max(0,index[0]+num_neighbor+1)\n",
    "\n",
    "bottom = max(0,index[1]-num_neighbor)\n",
    "top = max(0,index[1]+num_neighbor+1)\n",
    "\n",
    "neighbors = pattern[left:right,bottom:top]\n",
    "print(neighbors)"
   ]
  },
  {
   "cell_type": "code",
   "execution_count": 89,
   "metadata": {},
   "outputs": [
    {
     "name": "stdout",
     "output_type": "stream",
     "text": [
      "[1 4]\n"
     ]
    }
   ],
   "source": [
    "_,count = np.unique(neighbors, return_counts=True)\n",
    "count[1] = count[1] - 1\n",
    "print(count)"
   ]
  },
  {
   "cell_type": "code",
   "execution_count": 90,
   "metadata": {},
   "outputs": [
    {
     "name": "stdout",
     "output_type": "stream",
     "text": [
      "[[0 0 1 0 0 1 0 0 1 0]\n",
      " [1 0 1 1 1 1 1 1 0 1]\n",
      " [0 0 0 0 1 0 1 0 0 1]\n",
      " [0 0 0 0 0 1 0 1 1 1]\n",
      " [0 1 0 1 1 0 1 0 1 0]\n",
      " [1 0 0 0 0 1 0 1 1 1]\n",
      " [1 0 0 0 1 0 0 1 0 0]\n",
      " [0 0 1 0 0 1 0 1 1 1]\n",
      " [1 1 0 0 0 0 1 1 1 1]\n",
      " [0 1 1 0 0 0 1 1 1 0]]\n"
     ]
    }
   ],
   "source": [
    "if count[1] < 2:\n",
    "    pattern[index[0],index[1]] = False\n",
    "if count[1] > 3:\n",
    "    pattern[index[0],index[1]] = False\n",
    "\n",
    "print(pattern)"
   ]
  }
 ],
 "metadata": {
  "kernelspec": {
   "display_name": "Python 3.10.6 64-bit (windows store)",
   "language": "python",
   "name": "python3"
  },
  "language_info": {
   "codemirror_mode": {
    "name": "ipython",
    "version": 3
   },
   "file_extension": ".py",
   "mimetype": "text/x-python",
   "name": "python",
   "nbconvert_exporter": "python",
   "pygments_lexer": "ipython3",
   "version": "3.10.6"
  },
  "orig_nbformat": 4,
  "vscode": {
   "interpreter": {
    "hash": "b96dac2fdb731018fc7161c6635bc834d096ae64961101d4f967ac31ed74e92f"
   }
  }
 },
 "nbformat": 4,
 "nbformat_minor": 2
}
